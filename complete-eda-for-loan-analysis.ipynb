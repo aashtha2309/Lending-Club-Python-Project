{
 "cells": [
  {
   "cell_type": "markdown",
   "metadata": {
    "_cell_guid": "22a89fac-263e-4d80-b279-d6d3483cac29",
    "_uuid": "cdb7d73b06e7eeac3470c8cf958187872e39217b"
   },
   "source": [
    "# Complete EDA for Loan Prediction\n",
    "***\n",
    "***"
   ]
  },
  {
   "cell_type": "markdown",
   "metadata": {
    "_cell_guid": "9bf5e91f-ff94-4e0a-b294-562187a148b4",
    "_uuid": "0d3e5875bfbb802f66a3e4c86eda0432350dc2f2"
   },
   "source": [
    "__[Analysis by :: Ankit Bhatia](https://www.linkedin.com/in/ab9bhatia/)__"
   ]
  },
  {
   "cell_type": "markdown",
   "metadata": {
    "_cell_guid": "79c7e3d0-c299-4dcb-8224-4455121ee9b0",
    "_uuid": "d629ff2d2480ee46fbb7e2d37f6b5fab8052498a",
    "collapsed": true
   },
   "source": [
    "### <u>Table of Contents</u>\n",
    "[I. Prerequisite](#prerequisite)\n",
    "\n",
    "[II. Import Libraries and set required parameters](#library)\n",
    "\n",
    "![](http://)[III. Data Sourcing](#sourcing)\n",
    "\n",
    "[IV. Data Cleaning and Manipulation](#cleaning)\n",
    "\n",
    "[V. Derived Metrics](#derived)\n",
    "\n",
    "[VI. Univariate Analysis](#univariate)\n",
    "\n",
    "[VII. Bivariate/Multivariate Analysis](#bivariate)\n",
    "\n",
    "[VII. Bivariate/Multivariate Analysis with Probability of Charged off](#bivariate_prob)\n",
    "\n",
    "[IX. Conclusion](#Conclusion)"
   ]
  },
  {
   "cell_type": "markdown",
   "metadata": {
    "_cell_guid": "bbe2098a-73f2-4412-ad79-2547174d0993",
    "_uuid": "64a06b54e800ac49e4aeee4834558fc0f589f588"
   },
   "source": [
    "<a id='prerequisite'></a>"
   ]
  },
  {
   "cell_type": "markdown",
   "metadata": {
    "_cell_guid": "0f41099d-795d-4047-9701-9df34973602e",
    "_uuid": "80c495b5233f6fb4296f5ee9108aab9dd4380660"
   },
   "source": [
    "## I. Prerequisite\n",
    "\n",
    "1. Place 'loan.csv' input file at __\"../input\"__ directory before running this code.\n",
    "\n",
    "2. Please make sure that you have following python libraries imported/installed at your system:\n",
    "\n",
    "    * numpy version\t: 1.12.1 or higher\n",
    "    * pandas version\t: 0.20.3 or higher\n",
    "    * seaborn version\t: 0.8.0 or higher"
   ]
  },
  {
   "cell_type": "markdown",
   "metadata": {
    "_cell_guid": "b8cee1f9-9101-475a-997d-431139d17ed2",
    "_uuid": "b2fe168c328d202a048ed6dadd90c0abe9a5719e"
   },
   "source": [
    "<a id='library'></a>"
   ]
  },
  {
   "cell_type": "markdown",
   "metadata": {
    "_cell_guid": "29062daf-b03f-4e47-80f6-6fd675582e73",
    "_uuid": "483eea656df787901459a0437ed62a4d2d73bff3"
   },
   "source": [
    "## II. Import Libraries and set required parameters"
   ]
  },
  {
   "cell_type": "code",
   "execution_count": 1,
   "metadata": {
    "_cell_guid": "75fc562c-488a-412d-81eb-7db0f1f62620",
    "_uuid": "ad0c378fb75f5d257527ffef6277bbae59cde250"
   },
   "outputs": [
    {
     "name": "stdout",
     "output_type": "stream",
     "text": [
      "numpy version\t: 1.16.2\n",
      "pandas version\t: 0.24.2\n",
      "seaborn version\t: 0.9.0\n"
     ]
    }
   ],
   "source": [
    "import numpy as np\n",
    "print('numpy version\\t:',np.__version__)\n",
    "import pandas as pd\n",
    "print('pandas version\\t:',pd.__version__)\n",
    "import matplotlib.pyplot as plt\n",
    "%matplotlib inline\n",
    "from scipy import stats\n",
    "\n",
    "# Regular expressions\n",
    "import re\n",
    "\n",
    "# seaborn : advanced visualization\n",
    "import seaborn as sns\n",
    "print('seaborn version\\t:',sns.__version__)\n",
    "\n",
    "pd.options.mode.chained_assignment = None #set it to None to remove SettingWithCopyWarning\n",
    "pd.options.display.float_format = '{:.4f}'.format #set it to convert scientific noations such as 4.225108e+11 to 422510842796.00\n",
    "pd.set_option('display.max_columns', 100) # to display all the columns\n",
    "\n",
    "np.set_printoptions(suppress=True,formatter={'float_kind':'{:f}'.format})\n",
    "\n",
    "import os\n",
    "\n",
    "import warnings\n",
    "warnings.filterwarnings('ignore') # if there are any warning due to version mismatch, it will be ignored"
   ]
  },
  {
   "cell_type": "markdown",
   "metadata": {
    "_cell_guid": "54af3d9f-8994-4a38-8817-aa6280b17f61",
    "_uuid": "66d88acd279ed8b2dbaf9bf1474ad27a3bb23d90"
   },
   "source": [
    "<a id='sourcing'></a>"
   ]
  },
  {
   "cell_type": "markdown",
   "metadata": {
    "_cell_guid": "75697415-9615-4ca0-be47-47ba96d41d6c",
    "_uuid": "a5f02f07b95175bf12e01898e65b65ff6bda807c"
   },
   "source": [
    "## III. Data Sourcing"
   ]
  },
  {
   "cell_type": "code",
   "execution_count": 2,
   "metadata": {
    "_cell_guid": "738a4017-3d58-487a-b869-5984b38befcc",
    "_uuid": "9321d54076b221b0d2cbcf46dafc7f933aaa7fd4"
   },
   "outputs": [
    {
     "ename": "FileNotFoundError",
     "evalue": "[WinError 3] The system cannot find the path specified: '../input'",
     "output_type": "error",
     "traceback": [
      "\u001b[1;31m---------------------------------------------------------------------------\u001b[0m",
      "\u001b[1;31mFileNotFoundError\u001b[0m                         Traceback (most recent call last)",
      "\u001b[1;32m<ipython-input-2-b8e5fd5020e3>\u001b[0m in \u001b[0;36m<module>\u001b[1;34m\u001b[0m\n\u001b[1;32m----> 1\u001b[1;33m \u001b[0mprint\u001b[0m\u001b[1;33m(\u001b[0m\u001b[0mos\u001b[0m\u001b[1;33m.\u001b[0m\u001b[0mlistdir\u001b[0m\u001b[1;33m(\u001b[0m\u001b[1;34m\"../input\"\u001b[0m\u001b[1;33m)\u001b[0m\u001b[1;33m)\u001b[0m\u001b[1;33m\u001b[0m\u001b[1;33m\u001b[0m\u001b[0m\n\u001b[0m",
      "\u001b[1;31mFileNotFoundError\u001b[0m: [WinError 3] The system cannot find the path specified: '../input'"
     ]
    }
   ],
   "source": [
    "print(os.listdir(\"../input\"))"
   ]
  },
  {
   "cell_type": "code",
   "execution_count": 2,
   "metadata": {
    "_cell_guid": "0fc4d4da-9f4b-4189-a585-b1e817cf8b5f",
    "_uuid": "d879a29cf991330a900f744b47cd3bddc2dbabf9"
   },
   "outputs": [
    {
     "name": "stdout",
     "output_type": "stream",
     "text": [
      "(855969, 73)\n"
     ]
    }
   ],
   "source": [
    "loan = pd.read_csv('data.csv',dtype='object')\n",
    "print(loan.shape)"
   ]
  },
  {
   "cell_type": "markdown",
   "metadata": {
    "_cell_guid": "fbe2c976-7601-480d-a23a-c94636c5dbf7",
    "_uuid": "1d28c0c77f46a56a0e3ae3c2fa4730e12710b280"
   },
   "source": [
    "#### Get some insights"
   ]
  },
  {
   "cell_type": "code",
   "execution_count": 4,
   "metadata": {
    "_cell_guid": "1066de98-335c-42c8-9a5a-dd5c5abc8962",
    "_uuid": "26c718d1dce6f109f2a607beedaaf1e4ade2fcf9"
   },
   "outputs": [
    {
     "data": {
      "text/html": [
       "<div>\n",
       "<style scoped>\n",
       "    .dataframe tbody tr th:only-of-type {\n",
       "        vertical-align: middle;\n",
       "    }\n",
       "\n",
       "    .dataframe tbody tr th {\n",
       "        vertical-align: top;\n",
       "    }\n",
       "\n",
       "    .dataframe thead th {\n",
       "        text-align: right;\n",
       "    }\n",
       "</style>\n",
       "<table border=\"1\" class=\"dataframe\">\n",
       "  <thead>\n",
       "    <tr style=\"text-align: right;\">\n",
       "      <th></th>\n",
       "      <th>id</th>\n",
       "      <th>member_id</th>\n",
       "      <th>loan_amnt</th>\n",
       "      <th>funded_amnt</th>\n",
       "      <th>funded_amnt_inv</th>\n",
       "      <th>term</th>\n",
       "      <th>int_rate</th>\n",
       "      <th>installment</th>\n",
       "      <th>grade</th>\n",
       "      <th>sub_grade</th>\n",
       "      <th>emp_title</th>\n",
       "      <th>emp_length</th>\n",
       "      <th>home_ownership</th>\n",
       "      <th>annual_inc</th>\n",
       "      <th>verification_status</th>\n",
       "      <th>issue_d</th>\n",
       "      <th>pymnt_plan</th>\n",
       "      <th>desc</th>\n",
       "      <th>purpose</th>\n",
       "      <th>title</th>\n",
       "      <th>zip_code</th>\n",
       "      <th>addr_state</th>\n",
       "      <th>dti</th>\n",
       "      <th>delinq_2yrs</th>\n",
       "      <th>earliest_cr_line</th>\n",
       "      <th>inq_last_6mths</th>\n",
       "      <th>mths_since_last_delinq</th>\n",
       "      <th>mths_since_last_record</th>\n",
       "      <th>open_acc</th>\n",
       "      <th>pub_rec</th>\n",
       "      <th>revol_bal</th>\n",
       "      <th>revol_util</th>\n",
       "      <th>total_acc</th>\n",
       "      <th>initial_list_status</th>\n",
       "      <th>out_prncp</th>\n",
       "      <th>out_prncp_inv</th>\n",
       "      <th>total_pymnt</th>\n",
       "      <th>total_pymnt_inv</th>\n",
       "      <th>total_rec_prncp</th>\n",
       "      <th>total_rec_int</th>\n",
       "      <th>total_rec_late_fee</th>\n",
       "      <th>recoveries</th>\n",
       "      <th>collection_recovery_fee</th>\n",
       "      <th>last_pymnt_d</th>\n",
       "      <th>last_pymnt_amnt</th>\n",
       "      <th>next_pymnt_d</th>\n",
       "      <th>last_credit_pull_d</th>\n",
       "      <th>collections_12_mths_ex_med</th>\n",
       "      <th>mths_since_last_major_derog</th>\n",
       "      <th>policy_code</th>\n",
       "      <th>application_type</th>\n",
       "      <th>annual_inc_joint</th>\n",
       "      <th>dti_joint</th>\n",
       "      <th>verification_status_joint</th>\n",
       "      <th>acc_now_delinq</th>\n",
       "      <th>tot_coll_amt</th>\n",
       "      <th>tot_cur_bal</th>\n",
       "      <th>open_acc_6m</th>\n",
       "      <th>open_il_6m</th>\n",
       "      <th>open_il_12m</th>\n",
       "      <th>open_il_24m</th>\n",
       "      <th>mths_since_rcnt_il</th>\n",
       "      <th>total_bal_il</th>\n",
       "      <th>il_util</th>\n",
       "      <th>open_rv_12m</th>\n",
       "      <th>open_rv_24m</th>\n",
       "      <th>max_bal_bc</th>\n",
       "      <th>all_util</th>\n",
       "      <th>total_rev_hi_lim</th>\n",
       "      <th>inq_fi</th>\n",
       "      <th>total_cu_tl</th>\n",
       "      <th>inq_last_12m</th>\n",
       "      <th>default_ind</th>\n",
       "    </tr>\n",
       "  </thead>\n",
       "  <tbody>\n",
       "    <tr>\n",
       "      <th>0</th>\n",
       "      <td>1077501</td>\n",
       "      <td>1296599</td>\n",
       "      <td>5000</td>\n",
       "      <td>5000</td>\n",
       "      <td>4975</td>\n",
       "      <td>36 months</td>\n",
       "      <td>10.65</td>\n",
       "      <td>162.87</td>\n",
       "      <td>B</td>\n",
       "      <td>B2</td>\n",
       "      <td>NaN</td>\n",
       "      <td>10+ years</td>\n",
       "      <td>RENT</td>\n",
       "      <td>24000</td>\n",
       "      <td>Verified</td>\n",
       "      <td>Dec-11</td>\n",
       "      <td>n</td>\n",
       "      <td>Borrower added on 12/22/11 &gt; I need to upgra...</td>\n",
       "      <td>credit_card</td>\n",
       "      <td>Computer</td>\n",
       "      <td>860xx</td>\n",
       "      <td>AZ</td>\n",
       "      <td>27.65</td>\n",
       "      <td>0</td>\n",
       "      <td>Jan-85</td>\n",
       "      <td>1</td>\n",
       "      <td>NaN</td>\n",
       "      <td>NaN</td>\n",
       "      <td>3</td>\n",
       "      <td>0</td>\n",
       "      <td>13648</td>\n",
       "      <td>83.7</td>\n",
       "      <td>9</td>\n",
       "      <td>f</td>\n",
       "      <td>0</td>\n",
       "      <td>0</td>\n",
       "      <td>5861.071414</td>\n",
       "      <td>5831.78</td>\n",
       "      <td>5000</td>\n",
       "      <td>861.07</td>\n",
       "      <td>0</td>\n",
       "      <td>0</td>\n",
       "      <td>0</td>\n",
       "      <td>Jan-15</td>\n",
       "      <td>171.62</td>\n",
       "      <td>NaN</td>\n",
       "      <td>Jan-16</td>\n",
       "      <td>0</td>\n",
       "      <td>NaN</td>\n",
       "      <td>1</td>\n",
       "      <td>INDIVIDUAL</td>\n",
       "      <td>NaN</td>\n",
       "      <td>NaN</td>\n",
       "      <td>NaN</td>\n",
       "      <td>0</td>\n",
       "      <td>NaN</td>\n",
       "      <td>NaN</td>\n",
       "      <td>NaN</td>\n",
       "      <td>NaN</td>\n",
       "      <td>NaN</td>\n",
       "      <td>NaN</td>\n",
       "      <td>NaN</td>\n",
       "      <td>NaN</td>\n",
       "      <td>NaN</td>\n",
       "      <td>NaN</td>\n",
       "      <td>NaN</td>\n",
       "      <td>NaN</td>\n",
       "      <td>NaN</td>\n",
       "      <td>NaN</td>\n",
       "      <td>NaN</td>\n",
       "      <td>NaN</td>\n",
       "      <td>NaN</td>\n",
       "      <td>0</td>\n",
       "    </tr>\n",
       "    <tr>\n",
       "      <th>1</th>\n",
       "      <td>1077430</td>\n",
       "      <td>1314167</td>\n",
       "      <td>2500</td>\n",
       "      <td>2500</td>\n",
       "      <td>2500</td>\n",
       "      <td>60 months</td>\n",
       "      <td>15.27</td>\n",
       "      <td>59.83</td>\n",
       "      <td>C</td>\n",
       "      <td>C4</td>\n",
       "      <td>Ryder</td>\n",
       "      <td>&lt; 1 year</td>\n",
       "      <td>RENT</td>\n",
       "      <td>30000</td>\n",
       "      <td>Source Verified</td>\n",
       "      <td>Dec-11</td>\n",
       "      <td>n</td>\n",
       "      <td>Borrower added on 12/22/11 &gt; I plan to use t...</td>\n",
       "      <td>car</td>\n",
       "      <td>bike</td>\n",
       "      <td>309xx</td>\n",
       "      <td>GA</td>\n",
       "      <td>1</td>\n",
       "      <td>0</td>\n",
       "      <td>Apr-99</td>\n",
       "      <td>5</td>\n",
       "      <td>NaN</td>\n",
       "      <td>NaN</td>\n",
       "      <td>3</td>\n",
       "      <td>0</td>\n",
       "      <td>1687</td>\n",
       "      <td>9.4</td>\n",
       "      <td>4</td>\n",
       "      <td>f</td>\n",
       "      <td>0</td>\n",
       "      <td>0</td>\n",
       "      <td>1008.71</td>\n",
       "      <td>1008.71</td>\n",
       "      <td>456.46</td>\n",
       "      <td>435.17</td>\n",
       "      <td>0</td>\n",
       "      <td>117.08</td>\n",
       "      <td>1.11</td>\n",
       "      <td>Apr-13</td>\n",
       "      <td>119.66</td>\n",
       "      <td>NaN</td>\n",
       "      <td>Sep-13</td>\n",
       "      <td>0</td>\n",
       "      <td>NaN</td>\n",
       "      <td>1</td>\n",
       "      <td>INDIVIDUAL</td>\n",
       "      <td>NaN</td>\n",
       "      <td>NaN</td>\n",
       "      <td>NaN</td>\n",
       "      <td>0</td>\n",
       "      <td>NaN</td>\n",
       "      <td>NaN</td>\n",
       "      <td>NaN</td>\n",
       "      <td>NaN</td>\n",
       "      <td>NaN</td>\n",
       "      <td>NaN</td>\n",
       "      <td>NaN</td>\n",
       "      <td>NaN</td>\n",
       "      <td>NaN</td>\n",
       "      <td>NaN</td>\n",
       "      <td>NaN</td>\n",
       "      <td>NaN</td>\n",
       "      <td>NaN</td>\n",
       "      <td>NaN</td>\n",
       "      <td>NaN</td>\n",
       "      <td>NaN</td>\n",
       "      <td>NaN</td>\n",
       "      <td>1</td>\n",
       "    </tr>\n",
       "  </tbody>\n",
       "</table>\n",
       "</div>"
      ],
      "text/plain": [
       "        id member_id loan_amnt funded_amnt funded_amnt_inv        term  \\\n",
       "0  1077501   1296599      5000        5000            4975   36 months   \n",
       "1  1077430   1314167      2500        2500            2500   60 months   \n",
       "\n",
       "  int_rate installment grade sub_grade emp_title emp_length home_ownership  \\\n",
       "0    10.65      162.87     B        B2       NaN  10+ years           RENT   \n",
       "1    15.27       59.83     C        C4     Ryder   < 1 year           RENT   \n",
       "\n",
       "  annual_inc verification_status issue_d pymnt_plan  \\\n",
       "0      24000            Verified  Dec-11          n   \n",
       "1      30000     Source Verified  Dec-11          n   \n",
       "\n",
       "                                                desc      purpose     title  \\\n",
       "0    Borrower added on 12/22/11 > I need to upgra...  credit_card  Computer   \n",
       "1    Borrower added on 12/22/11 > I plan to use t...          car      bike   \n",
       "\n",
       "  zip_code addr_state    dti delinq_2yrs earliest_cr_line inq_last_6mths  \\\n",
       "0    860xx         AZ  27.65           0           Jan-85              1   \n",
       "1    309xx         GA      1           0           Apr-99              5   \n",
       "\n",
       "  mths_since_last_delinq mths_since_last_record open_acc pub_rec revol_bal  \\\n",
       "0                    NaN                    NaN        3       0     13648   \n",
       "1                    NaN                    NaN        3       0      1687   \n",
       "\n",
       "  revol_util total_acc initial_list_status out_prncp out_prncp_inv  \\\n",
       "0       83.7         9                   f         0             0   \n",
       "1        9.4         4                   f         0             0   \n",
       "\n",
       "   total_pymnt total_pymnt_inv total_rec_prncp total_rec_int  \\\n",
       "0  5861.071414         5831.78            5000        861.07   \n",
       "1      1008.71         1008.71          456.46        435.17   \n",
       "\n",
       "  total_rec_late_fee recoveries collection_recovery_fee last_pymnt_d  \\\n",
       "0                  0          0                       0       Jan-15   \n",
       "1                  0     117.08                    1.11       Apr-13   \n",
       "\n",
       "  last_pymnt_amnt next_pymnt_d last_credit_pull_d collections_12_mths_ex_med  \\\n",
       "0          171.62          NaN             Jan-16                          0   \n",
       "1          119.66          NaN             Sep-13                          0   \n",
       "\n",
       "  mths_since_last_major_derog policy_code application_type annual_inc_joint  \\\n",
       "0                         NaN           1       INDIVIDUAL              NaN   \n",
       "1                         NaN           1       INDIVIDUAL              NaN   \n",
       "\n",
       "  dti_joint verification_status_joint acc_now_delinq tot_coll_amt tot_cur_bal  \\\n",
       "0       NaN                       NaN              0          NaN         NaN   \n",
       "1       NaN                       NaN              0          NaN         NaN   \n",
       "\n",
       "  open_acc_6m open_il_6m open_il_12m open_il_24m mths_since_rcnt_il  \\\n",
       "0         NaN        NaN         NaN         NaN                NaN   \n",
       "1         NaN        NaN         NaN         NaN                NaN   \n",
       "\n",
       "  total_bal_il il_util open_rv_12m open_rv_24m max_bal_bc all_util  \\\n",
       "0          NaN     NaN         NaN         NaN        NaN      NaN   \n",
       "1          NaN     NaN         NaN         NaN        NaN      NaN   \n",
       "\n",
       "  total_rev_hi_lim inq_fi total_cu_tl inq_last_12m default_ind  \n",
       "0              NaN    NaN         NaN          NaN           0  \n",
       "1              NaN    NaN         NaN          NaN           1  "
      ]
     },
     "execution_count": 4,
     "metadata": {},
     "output_type": "execute_result"
    }
   ],
   "source": [
    "loan.head(2)"
   ]
  },
  {
   "cell_type": "markdown",
   "metadata": {
    "_cell_guid": "5bc73907-6c3e-4796-8894-7443a7c6c84f",
    "_uuid": "ce0a63d0c5cd7130fe6b948bdacae094ad6db5bd"
   },
   "source": [
    "__List of Columns & NA counts where NA values are more than 30%__"
   ]
  },
  {
   "cell_type": "code",
   "execution_count": 7,
   "metadata": {
    "_cell_guid": "a548769e-ba4a-485c-b555-5b77d7c3fbe1",
    "_uuid": "cf460b9c658d48836fe9e5ef437fe40aa980262b"
   },
   "outputs": [
    {
     "data": {
      "image/png": "[encoded data removed]",
      "text/plain": [
       "<Figure size 1440x288 with 1 Axes>"
      ]
     },
     "metadata": {
      "needs_background": "light"
     },
     "output_type": "display_data"
    }
   ],
   "source": [
    "NA_col = loan.isnull().sum()\n",
    "NA_col = NA_col[NA_col.values >(0.3*len(loan))]\n",
    "plt.figure(figsize=(20,4))\n",
    "NA_col.plot(kind='bar')\n",
    "plt.title('List of Columns & NA counts where NA values are more than 30%')\n",
    "plt.show()"
   ]
  },
  {
   "cell_type": "markdown",
   "metadata": {
    "_cell_guid": "3b7fd113-80ca-4dd9-93ce-162b630d8b28",
    "_uuid": "c0c74b2a6caf6a38d7d874d59889da38ec2f1a7b"
   },
   "source": [
    "<font color='blue'><b>Insights</b>: So we can see from the above plot that there are 20+ columns in the dataset where all the values are NA.</font> \n",
    "\n",
    "As we can see there are <b>887379</b> rows & <b>74</b> columns in the dataset, it will be very difficult to look at each column one by one & find the NA or missing values.\n",
    "So let's find out all columns where missing values are more than certain percentage, let's say <b>30%</b>. We will remove those columns as it is not feasable to impute missing values for those columns.\n",
    "\n",
    "We will create a UDF for this."
   ]
  },
  {
   "cell_type": "markdown",
   "metadata": {
    "_cell_guid": "f9993540-4203-430f-986d-f5c807957fb0",
    "_uuid": "1413b127cdf432287eb3c710315a9635bdf0b26d"
   },
   "source": [
    "<a id='cleaning'></a>"
   ]
  },
  {
   "cell_type": "markdown",
   "metadata": {
    "_cell_guid": "d91eb8d8-6b16-429c-a43e-057eebb0aa00",
    "_uuid": "770f4865c3a9699a893bcfe188b6ae22fd4c0f02"
   },
   "source": [
    "## IV. Data Cleaning and Manipulation"
   ]
  },
  {
   "cell_type": "markdown",
   "metadata": {
    "_cell_guid": "de89f80e-2ad0-4b0f-add3-b7460119283a",
    "_uuid": "52b0dc3d0e2ed54586e1e8d9c7705f18e785f748"
   },
   "source": [
    "__<font color='green'>UDF :: removeNulls(dataframe, axis, percent)</font>__\n",
    "\n",
    "###### removeNulls(dataframe, axis, percent) will drop the columns/rows from the dataset based on the parameter values."
   ]
  },
  {
   "cell_type": "code",
   "execution_count": 8,
   "metadata": {
    "_cell_guid": "00ae9c52-dd1d-453f-9bf5-3e50a88b756c",
    "_uuid": "18631a5e13710dcc7b05a729eb0ba7549453a500"
   },
   "outputs": [],
   "source": [
    "def removeNulls(dataframe, axis =1, percent=0.3):\n",
    "    '''\n",
    "    * removeNull function will remove the rows and columns based on parameters provided.\n",
    "    * dataframe : Name of the dataframe  \n",
    "    * axis      : axis = 0 defines drop rows, axis =1(default) defines drop columns    \n",
    "    * percent   : percent of data where column/rows values are null,default is 0.3(30%)\n",
    "              \n",
    "    '''\n",
    "    df = dataframe.copy()\n",
    "    ishape = df.shape\n",
    "    if axis == 0:\n",
    "        rownames = df.transpose().isnull().sum()\n",
    "        rownames = list(rownames[rownames.values > percent*len(df)].index)\n",
    "        df.drop(df.index[rownames],inplace=True) \n",
    "        print(\"\\nNumber of Rows dropped\\t: \",len(rownames))\n",
    "    else:\n",
    "        colnames = (df.isnull().sum()/len(df))\n",
    "        colnames = list(colnames[colnames.values>=percent].index)\n",
    "        df.drop(labels = colnames,axis =1,inplace=True)        \n",
    "        print(\"Number of Columns dropped\\t: \",len(colnames))\n",
    "        \n",
    "    print(\"\\nOld dataset rows,columns\",ishape,\"\\nNew dataset rows,columns\",df.shape)\n",
    "\n",
    "    return df"
   ]
  },
  {
   "cell_type": "markdown",
   "metadata": {
    "_cell_guid": "6fac32c1-c0fd-4c7c-944d-45d09b41cb2f",
    "_uuid": "96a6331832fd81889f1f02504780ce60a67f87d1"
   },
   "source": [
    "#### 1. Remove columns where NA values are more than or equal to 30%"
   ]
  },
  {
   "cell_type": "code",
   "execution_count": 9,
   "metadata": {
    "_cell_guid": "ae8a73ff-273d-437a-b2fd-99679fafb2b1",
    "_uuid": "3aa37ea96abf013b70c35b14f214a5d24151a992"
   },
   "outputs": [
    {
     "name": "stdout",
     "output_type": "stream",
     "text": [
      "Number of Columns dropped\t:  21\n",
      "\n",
      "Old dataset rows,columns (855969, 73) \n",
      "New dataset rows,columns (855969, 52)\n"
     ]
    }
   ],
   "source": [
    "loan = removeNulls(loan, axis =1,percent = 0.3)"
   ]
  },
  {
   "cell_type": "markdown",
   "metadata": {
    "_cell_guid": "62b0d0db-7f41-4d36-a219-4c084c2fdd60",
    "_uuid": "a8ab91da8f118ada0481f57750de874b17b8a938"
   },
   "source": [
    "#### 2. Remove rows where NA values are more than or equal to 30%\n",
    "(Note: NA columns has already been removed in step 1, so we may not find any <b>rows</b> where 30% values are NA)"
   ]
  },
  {
   "cell_type": "code",
   "execution_count": 8,
   "metadata": {
    "_cell_guid": "2d3f1647-aa0f-413d-b888-098ea0e4978d",
    "_uuid": "d9efa2459afeb1925413b4051eae1829281d0a12",
    "collapsed": true
   },
   "outputs": [],
   "source": [
    "loan = removeNulls(loan, axis =0,percent = 0.3)"
   ]
  },
  {
   "cell_type": "markdown",
   "metadata": {
    "_cell_guid": "7f65ebb4-ccaa-41d4-9859-13de7ae855ad",
    "_uuid": "00ef5ab6b542986c825ddc3579edeec893a98062"
   },
   "source": [
    "There are no rows where NA values are more than or equal to 30%"
   ]
  },
  {
   "cell_type": "markdown",
   "metadata": {
    "_cell_guid": "a82b26fa-7eef-478f-b3c5-1e5a9fe6e44b",
    "_uuid": "03732f9a024607fc721977015e36903f29aeab96"
   },
   "source": [
    "#### 3. Remove columns where number of unique value is only 1.\n",
    "\n",
    "Let's look at no of unique values for each column.We will remove all columns where number of unique value is only 1 because that will not make any sense in the analysis"
   ]
  },
  {
   "cell_type": "code",
   "execution_count": 9,
   "metadata": {
    "_cell_guid": "969c80f1-b3b5-4c2b-9e32-1830ecc1bb50",
    "_uuid": "b4df99ee78b71770c64cdea593ec260ea2b4b141",
    "collapsed": true
   },
   "outputs": [],
   "source": [
    "unique = loan.nunique()\n",
    "unique = unique[unique.values == 1]"
   ]
  },
  {
   "cell_type": "code",
   "execution_count": 10,
   "metadata": {
    "_cell_guid": "ed4c9beb-65e3-42d3-9685-f2248f675c76",
    "_uuid": "f4271bb3451b0214f3b9659727f15dacc7517be8",
    "collapsed": true
   },
   "outputs": [],
   "source": [
    "loan.drop(labels = list(unique.index), axis =1, inplace=True)\n",
    "print(\"So now we are left with\",loan.shape ,\"rows & columns.\")"
   ]
  },
  {
   "cell_type": "markdown",
   "metadata": {
    "_cell_guid": "1285423d-96b6-4782-8418-8f9383981ff0",
    "_uuid": "50ef96b6382f8093295d9af58c23824a96317c8b"
   },
   "source": [
    "#### 4. Employment Term : Remove 'n/a' value with 'self-employed'.\n",
    "\n",
    "There are some values in emp_term which are <b>'n/a'</b>, we assume that are <b>'self-employed'</b>. Because for 'self-employed' applicants, emp-lenth is 'Not Applicable'"
   ]
  },
  {
   "cell_type": "code",
   "execution_count": 11,
   "metadata": {
    "_cell_guid": "d6b5b07a-b2c3-468b-ad8e-6fdd52cbe059",
    "_uuid": "1beba2632b2a355ba2a35f8f60a4cf869ce1dd3d",
    "collapsed": true
   },
   "outputs": [],
   "source": [
    "print(loan.emp_length.unique())\n",
    "loan.emp_length.fillna('0',inplace=True)\n",
    "loan.emp_length.replace(['n/a'],'Self-Employed',inplace=True)\n",
    "print(loan.emp_length.unique())"
   ]
  },
  {
   "cell_type": "markdown",
   "metadata": {
    "_cell_guid": "e1b07e40-44d3-42be-b83f-ec1ff01e3b25",
    "_uuid": "7b0ebab938c8bd37f48fd64cb2312df5e7cec9e6"
   },
   "source": [
    "#### 5. Remove irrelevant columns.\n",
    "\n",
    "Till now we have removed the columns based on the count & statistics.\n",
    "Now let's look at each column from business perspective if that is required or not for our analysis such as Unique ID's, URL.\n",
    "As last 2 digits of zip code is masked 'xx', we can remove that as well."
   ]
  },
  {
   "cell_type": "code",
   "execution_count": 12,
   "metadata": {
    "_cell_guid": "0e624151-c05f-4a02-a4e2-d0033e53315f",
    "_uuid": "32d5b1062af0c3e8f006593f52f4899362f83dea",
    "collapsed": true
   },
   "outputs": [],
   "source": [
    "not_required_columns = [\"id\",\"member_id\",\"url\",\"zip_code\"]\n",
    "loan.drop(labels = not_required_columns, axis =1, inplace=True)\n",
    "print(\"So now we are left with\",loan.shape ,\"rows & columns.\")"
   ]
  },
  {
   "cell_type": "markdown",
   "metadata": {
    "_cell_guid": "e396f396-f147-49a1-bf48-ad7bdce0b8f9",
    "_uuid": "f415645ea80a1d5ca168f9512e67fa44186a62ae"
   },
   "source": [
    "#### 6. Cast all continuos variables to numeric\n",
    "Cast all continuos variables to numeric so that we can find a correlation between them"
   ]
  },
  {
   "cell_type": "code",
   "execution_count": 13,
   "metadata": {
    "_cell_guid": "e1081f8c-bfdd-4aa1-ade8-4678ccdfbf72",
    "_uuid": "c134e1db95b4f20420b90ddf5a7ceb10b31fd0e9",
    "collapsed": true
   },
   "outputs": [],
   "source": [
    "numeric_columns = ['loan_amnt','funded_amnt','funded_amnt_inv','installment','int_rate','annual_inc','dti']\n",
    "\n",
    "loan[numeric_columns] = loan[numeric_columns].apply(pd.to_numeric)"
   ]
  },
  {
   "cell_type": "code",
   "execution_count": 14,
   "metadata": {
    "_cell_guid": "bb3074b2-209c-4d33-889d-c6b9d44e5a67",
    "_uuid": "57195de36056b42a7c41c9aee005e9acf5933de8"
   },
   "outputs": [],
   "source": [
    "loan.tail(3)"
   ]
  },
  {
   "cell_type": "markdown",
   "metadata": {
    "_cell_guid": "a015e967-e5e7-429f-8c07-3bdcd1c77287",
    "_uuid": "26bad11e89ae2600e63f4b0b095870624ee6580a"
   },
   "source": [
    "#### 7. Purpose of loan : Drop records where values are less than 0.75%\n",
    "We will analyse only those categories which contain more than 0.75% of records.\n",
    "Also, we are not aware what comes under 'Other' we will remove this category as well."
   ]
  },
  {
   "cell_type": "code",
   "execution_count": 15,
   "metadata": {
    "_cell_guid": "06e1fb33-0dc4-46ce-9572-c82d87e5298a",
    "_uuid": "f61ef68e6f46e7332c8b3ee2acec0046f0a69766"
   },
   "outputs": [],
   "source": [
    "(loan.purpose.value_counts()*100)/len(loan)"
   ]
  },
  {
   "cell_type": "code",
   "execution_count": 16,
   "metadata": {
    "_cell_guid": "0f7e69c2-6e12-4472-bb4a-7d5b19beb02a",
    "_uuid": "1296c4723120ffb7bfd37be1ef98ccd0c42ff67e",
    "collapsed": true
   },
   "outputs": [],
   "source": [
    "del_loan_purpose = (loan.purpose.value_counts()*100)/len(loan)\n",
    "del_loan_purpose = del_loan_purpose[(del_loan_purpose < 0.75) | (del_loan_purpose.index == 'other')]\n",
    "\n",
    "loan.drop(labels = loan[loan.purpose.isin(del_loan_purpose.index)].index, inplace=True)\n",
    "print(\"So now we are left with\",loan.shape ,\"rows & columns.\")\n",
    "\n",
    "print(loan.purpose.unique())"
   ]
  },
  {
   "cell_type": "markdown",
   "metadata": {
    "_cell_guid": "5b99d9b4-fb51-4bf6-9730-33ac704f90e7",
    "_uuid": "eb3fe4afe74a51282aa2f3fb5a692a7bebefe588"
   },
   "source": [
    "#### 8. Loan Status : Drop records where values are less than 1.5%\n",
    "As we can see, Other than ['Current','Fully Paid' & Charged off] other loan_status are not relevent for our analysis."
   ]
  },
  {
   "cell_type": "code",
   "execution_count": 17,
   "metadata": {
    "_cell_guid": "7cc7b804-27c1-4422-9a5d-7052bc63ea40",
    "_uuid": "df9814428b492f115ee6979938983e12fec314ec"
   },
   "outputs": [],
   "source": [
    "(loan.loan_status.value_counts()*100)/len(loan)"
   ]
  },
  {
   "cell_type": "code",
   "execution_count": 18,
   "metadata": {
    "_cell_guid": "390ae1dc-465d-4435-ba30-84a99a82ad9e",
    "_uuid": "070e63f10d018fed9719f919467cd3cf59c1453d",
    "collapsed": true
   },
   "outputs": [],
   "source": [
    "del_loan_status = (loan.loan_status.value_counts()*100)/len(loan)\n",
    "del_loan_status = del_loan_status[(del_loan_status < 1.5)]\n",
    "\n",
    "loan.drop(labels = loan[loan.loan_status.isin(del_loan_status.index)].index, inplace=True)\n",
    "print(\"So now we are left with\",loan.shape ,\"rows & columns.\")\n",
    "\n",
    "print(loan.loan_status.unique())"
   ]
  },
  {
   "cell_type": "markdown",
   "metadata": {
    "_cell_guid": "4a01794e-2514-4605-8bdd-e836d9dfc637",
    "_uuid": "68f1180353497c85175c6da61fe1b038dd76be34"
   },
   "source": [
    "<a id='derived'></a>"
   ]
  },
  {
   "cell_type": "markdown",
   "metadata": {
    "_cell_guid": "45cb713a-a84c-4949-85fd-2e3d41b934ba",
    "_uuid": "6b48f432491a2bcc2bc727ae55243439456e382b"
   },
   "source": [
    "## V. Derived Metrics"
   ]
  },
  {
   "cell_type": "markdown",
   "metadata": {
    "_cell_guid": "dbbd308a-33b0-440d-93d6-b96fcf1e5b27",
    "_uuid": "b3f9e4bdf1e50b90940a1e18bf39765c236e1a0d"
   },
   "source": [
    "** We will now derive some new columns based on our business understanding that will be helpful in our analysis. **"
   ]
  },
  {
   "cell_type": "markdown",
   "metadata": {
    "_cell_guid": "eeed91c7-a14b-4d07-b668-6f445fc7ddce",
    "_uuid": "f11866052074424a12b4aa61ca1519ac63284070"
   },
   "source": [
    "#### 1. Loan amount to Annual Income ratio"
   ]
  },
  {
   "cell_type": "code",
   "execution_count": 19,
   "metadata": {
    "_cell_guid": "172ef338-63d2-413f-9951-906ad3a61586",
    "_uuid": "0b3e6c249539afe914c2b1fe9dc2b049ecabfd83",
    "collapsed": true
   },
   "outputs": [],
   "source": [
    "loan['loan_income_ratio']= loan['loan_amnt']/loan['annual_inc']"
   ]
  },
  {
   "cell_type": "markdown",
   "metadata": {
    "_cell_guid": "bc89b2fc-057b-4e53-817c-741f064ca5cd",
    "_uuid": "c3d8984b3e1f784003d537751360d156687846e2"
   },
   "source": [
    "#### 2. Extract Year & Month from Issue date"
   ]
  },
  {
   "cell_type": "code",
   "execution_count": 3,
   "metadata": {
    "_cell_guid": "fda8e368-d073-46e1-acd2-a2b00d606c14",
    "_uuid": "329caa1252feb6334f549aeb5ac80c635194c80c"
   },
   "outputs": [
    {
     "data": {
      "text/html": [
       "<div>\n",
       "<style scoped>\n",
       "    .dataframe tbody tr th:only-of-type {\n",
       "        vertical-align: middle;\n",
       "    }\n",
       "\n",
       "    .dataframe tbody tr th {\n",
       "        vertical-align: top;\n",
       "    }\n",
       "\n",
       "    .dataframe thead th {\n",
       "        text-align: right;\n",
       "    }\n",
       "</style>\n",
       "<table border=\"1\" class=\"dataframe\">\n",
       "  <thead>\n",
       "    <tr style=\"text-align: right;\">\n",
       "      <th></th>\n",
       "      <th>issue_d</th>\n",
       "      <th>issue_month</th>\n",
       "      <th>issue_year</th>\n",
       "    </tr>\n",
       "  </thead>\n",
       "  <tbody>\n",
       "    <tr>\n",
       "      <th>0</th>\n",
       "      <td>Dec-11</td>\n",
       "      <td>Dec</td>\n",
       "      <td>11</td>\n",
       "    </tr>\n",
       "    <tr>\n",
       "      <th>1</th>\n",
       "      <td>Dec-11</td>\n",
       "      <td>Dec</td>\n",
       "      <td>11</td>\n",
       "    </tr>\n",
       "    <tr>\n",
       "      <th>2</th>\n",
       "      <td>Dec-11</td>\n",
       "      <td>Dec</td>\n",
       "      <td>11</td>\n",
       "    </tr>\n",
       "    <tr>\n",
       "      <th>3</th>\n",
       "      <td>Dec-11</td>\n",
       "      <td>Dec</td>\n",
       "      <td>11</td>\n",
       "    </tr>\n",
       "    <tr>\n",
       "      <th>4</th>\n",
       "      <td>Dec-11</td>\n",
       "      <td>Dec</td>\n",
       "      <td>11</td>\n",
       "    </tr>\n",
       "  </tbody>\n",
       "</table>\n",
       "</div>"
      ],
      "text/plain": [
       "  issue_d issue_month issue_year\n",
       "0  Dec-11         Dec         11\n",
       "1  Dec-11         Dec         11\n",
       "2  Dec-11         Dec         11\n",
       "3  Dec-11         Dec         11\n",
       "4  Dec-11         Dec         11"
      ]
     },
     "execution_count": 3,
     "metadata": {},
     "output_type": "execute_result"
    }
   ],
   "source": [
    "loan['issue_month'],loan['issue_year'] = loan['issue_d'].str.split('-', 1).str\n",
    "loan[['issue_d','issue_month','issue_year']].head()"
   ]
  },
  {
   "cell_type": "markdown",
   "metadata": {
    "_cell_guid": "80f371db-0f95-4755-bd69-624869782a30",
    "_uuid": "6f4d6cd0d8ea888de1c14cc7fdb05b8d7c83b749"
   },
   "source": [
    "#### 3. Change order of months from Jan to Dec, currently it's in alphabetical order(A-Z)"
   ]
  },
  {
   "cell_type": "code",
   "execution_count": 4,
   "metadata": {
    "_cell_guid": "829f7ab1-6477-444d-b7e9-05d1ef4e5e02",
    "_uuid": "6e80733195cd3be8d30540a94cce778f5b807c50"
   },
   "outputs": [],
   "source": [
    "months_order = [\"Jan\", \"Feb\", \"Mar\", \"Apr\",\"May\",\"Jun\",\"Jul\",\"Aug\",\"Sep\",\"Oct\",\"Nov\",\"Dec\"]\n",
    "loan['issue_month'] = pd.Categorical(loan['issue_month'],categories=months_order, ordered=True)"
   ]
  },
  {
   "cell_type": "markdown",
   "metadata": {
    "_cell_guid": "1e8da8d4-8c69-46d9-9788-309272a92f1d",
    "_uuid": "7108a108e46d355afa71a54f8777329c77ae0c9a"
   },
   "source": [
    "#### 4. Create Bins for range of Loan Amount"
   ]
  },
  {
   "cell_type": "code",
   "execution_count": 22,
   "metadata": {
    "_cell_guid": "dd7fde5d-972b-4f5d-b085-dd0ce1a00fd4",
    "_uuid": "71cf49aae215f66c6e699586d495dc751af8ccb9",
    "collapsed": true
   },
   "outputs": [],
   "source": [
    "bins = [0, 5000, 10000, 15000, 20000, 25000,40000]\n",
    "slot = ['0-5000', '5000-10000', '10000-15000', '15000-20000', '20000-25000','25000 and above']\n",
    "loan['loan_amnt_range'] = pd.cut(loan['loan_amnt'], bins, labels=slot)"
   ]
  },
  {
   "cell_type": "markdown",
   "metadata": {
    "_cell_guid": "ccee934a-db87-49d2-85cb-60f5d29f9905",
    "_uuid": "e42462bc2ef07cfbbad7363060fa102182ea5f7b"
   },
   "source": [
    "#### 5. Create Bins for range of Annual Income"
   ]
  },
  {
   "cell_type": "code",
   "execution_count": 23,
   "metadata": {
    "_cell_guid": "83e85ec9-ef18-4d4d-abb9-2a20d5838ef5",
    "_uuid": "a46a939434625ba40a2c88b787b9935d4004e6a8",
    "collapsed": true
   },
   "outputs": [],
   "source": [
    "bins = [0, 25000, 50000, 75000, 100000,1000000]\n",
    "slot = ['0-25000', '25000-50000', '50000-75000', '75000-100000', '100000 and above']\n",
    "loan['annual_inc_range'] = pd.cut(loan['annual_inc'], bins, labels=slot)"
   ]
  },
  {
   "cell_type": "markdown",
   "metadata": {
    "_cell_guid": "c98a2e98-5e74-498e-89af-0d779834f610",
    "_uuid": "b66995e56249e22b072851191c137c3803b03307"
   },
   "source": [
    "#### 6. Create Bins for range of Interest rates"
   ]
  },
  {
   "cell_type": "code",
   "execution_count": 24,
   "metadata": {
    "_cell_guid": "0af44630-38ac-4107-8744-3e6b1e54a52b",
    "_uuid": "6953888643c09ce19e43ef3059e37435db43dcb5",
    "collapsed": true
   },
   "outputs": [],
   "source": [
    "bins = [0, 7.5, 10, 12.5, 15,20]\n",
    "slot = ['0-7.5', '7.5-10', '10-12.5', '12.5-15', '15 and above']\n",
    "loan['int_rate_range'] = pd.cut(loan['int_rate'], bins, labels=slot)"
   ]
  },
  {
   "cell_type": "markdown",
   "metadata": {
    "_cell_guid": "a6b5cb9c-9bd4-4af4-9846-756ed3ed82c4",
    "_uuid": "57a181aaf139454b62b2f57c91ac14079995e31b"
   },
   "source": [
    "<a id='univariate'></a>"
   ]
  },
  {
   "cell_type": "markdown",
   "metadata": {
    "_cell_guid": "e49677bb-6c55-42c3-944d-05be6e3d10e4",
    "_uuid": "d3feec6e8536b714e41fc6376102aafd4e64557c"
   },
   "source": [
    "## VI. Univariate Analysis"
   ]
  },
  {
   "cell_type": "markdown",
   "metadata": {
    "_cell_guid": "fdcb7903-a273-4055-8397-a6105667988e",
    "_uuid": "32a61ec949294173f1ec7519e84b5e3c90fad7f8"
   },
   "source": [
    "### Continuous Variables\n",
    "In case of continuous variables, we need to understand the central tendency and spread of the variable.These are measured using various statistical metrics visualization methods such as Boxplot,Histogram/Distribution Plot, Violin Plot etc."
   ]
  },
  {
   "cell_type": "markdown",
   "metadata": {
    "_cell_guid": "274cb336-9d21-4a68-91b1-bce7f7436a24",
    "_uuid": "6677393a9e62830fb58ca690a17b91ca644c032c"
   },
   "source": [
    "### Categorical Variables\n",
    "For categorical variables, we’ll use frequency table to understand distribution of each category. It can be be measured using two metrics, Count and Count% against each category. Countplot or Bar chart can be used as visualization."
   ]
  },
  {
   "cell_type": "markdown",
   "metadata": {
    "_cell_guid": "095a8e79-14df-4f5d-931c-fe0dce8817d6",
    "_uuid": "50ef761d816ceaba3bcbdf7ad66ab3935d3574ee"
   },
   "source": [
    "__<font color='green'>UDF :: univariate(df,col,vartype,hue)</font>__\n",
    "\n",
    "###### Univariate function will plot the graphs based on the parameter values."
   ]
  },
  {
   "cell_type": "code",
   "execution_count": 25,
   "metadata": {
    "_cell_guid": "5cb3b49e-4fb6-4b2a-a982-89ff3498ecd8",
    "_uuid": "367f6ecf242b73da95f46b662840eb20c8614a0c",
    "collapsed": true
   },
   "outputs": [],
   "source": [
    "def univariate(df,col,vartype,hue =None):\n",
    "    \n",
    "    '''\n",
    "    Univariate function will plot the graphs based on the parameters.\n",
    "    df      : dataframe name\n",
    "    col     : Column name\n",
    "    vartype : variable type : continuos or categorical\n",
    "                Continuos(0)   : Distribution, Violin & Boxplot will be plotted.\n",
    "                Categorical(1) : Countplot will be plotted.\n",
    "    hue     : It's only applicable for categorical analysis.\n",
    "    \n",
    "    '''\n",
    "    sns.set(style=\"darkgrid\")\n",
    "    \n",
    "    if vartype == 0:\n",
    "        fig, ax=plt.subplots(nrows =1,ncols=3,figsize=(20,8))\n",
    "        ax[0].set_title(\"Distribution Plot\")\n",
    "        sns.distplot(df[col],ax=ax[0])\n",
    "        ax[1].set_title(\"Violin Plot\")\n",
    "        sns.violinplot(data =df, x=col,ax=ax[1], inner=\"quartile\")\n",
    "        ax[2].set_title(\"Box Plot\")\n",
    "        sns.boxplot(data =df, x=col,ax=ax[2],orient='v')\n",
    "    \n",
    "    if vartype == 1:\n",
    "        temp = pd.Series(data = hue)\n",
    "        fig, ax = plt.subplots()\n",
    "        width = len(df[col].unique()) + 6 + 4*len(temp.unique())\n",
    "        fig.set_size_inches(width , 7)\n",
    "        ax = sns.countplot(data = df, x= col, order=df[col].value_counts().index,hue = hue) \n",
    "        if len(temp.unique()) > 0:\n",
    "            for p in ax.patches:\n",
    "                ax.annotate('{:1.1f}%'.format((p.get_height()*100)/float(len(loan))), (p.get_x()+0.05, p.get_height()+20))  \n",
    "        else:\n",
    "            for p in ax.patches:\n",
    "                ax.annotate(p.get_height(), (p.get_x()+0.32, p.get_height()+20)) \n",
    "        del temp\n",
    "    else:\n",
    "        exit\n",
    "        \n",
    "    plt.show()"
   ]
  },
  {
   "cell_type": "markdown",
   "metadata": {
    "_cell_guid": "d63377e3-740c-4ce4-98e6-a0c7fcac2c61",
    "_uuid": "0bc595b85316178ddce9baa8ed8aaa3480eda7b0"
   },
   "source": [
    "### Continuous Variables"
   ]
  },
  {
   "cell_type": "markdown",
   "metadata": {
    "_cell_guid": "decb2adb-9082-4a8d-bef2-54ca6fae746a",
    "_uuid": "4f166489b016da7c149d0b5ba4d20386c6df5b53"
   },
   "source": [
    "#### 1. Loan Amount"
   ]
  },
  {
   "cell_type": "code",
   "execution_count": 26,
   "metadata": {
    "_cell_guid": "9bc83f81-ea76-46b3-a36f-70f1ca7ce2f1",
    "_uuid": "6a5b92459418fb2482b612f704d09d90c701c9b6"
   },
   "outputs": [],
   "source": [
    "univariate(df=loan,col='loan_amnt',vartype=0)"
   ]
  },
  {
   "cell_type": "markdown",
   "metadata": {
    "_cell_guid": "8ec98619-3c23-4074-8e5a-92e52f622a0f",
    "_uuid": "961f5b7331d56240480a423ee57db7b91eb06723"
   },
   "source": [
    "<font color='blue'><b>Insights</b>: Most of the loan amounts are distributed between 8000 to 20000 USD.</font> "
   ]
  },
  {
   "cell_type": "markdown",
   "metadata": {
    "_cell_guid": "16186d23-60db-4b35-8c28-9b636dc93ff6",
    "_uuid": "6de9edf8b75efa6a428895edebf19e774707774c"
   },
   "source": [
    "#### 2. Interest Rate"
   ]
  },
  {
   "cell_type": "code",
   "execution_count": 27,
   "metadata": {
    "_cell_guid": "9a5d2a67-273c-4242-a350-7969e52822f2",
    "_uuid": "8b910bac4d3a69bf06795bdd6670373009167dd5"
   },
   "outputs": [],
   "source": [
    "univariate(df=loan,col='int_rate',vartype=0)"
   ]
  },
  {
   "cell_type": "markdown",
   "metadata": {
    "_cell_guid": "b5d0775a-4c9e-41c6-a1be-1dbe85890dbe",
    "_uuid": "2ef5bc7daef6f23c5e7bd5549ebf8a26abe889a5"
   },
   "source": [
    "<font color='blue'><b>Insights</b>: Most of the loans interest rates are distributed between 10% to 16%.</font> "
   ]
  },
  {
   "cell_type": "markdown",
   "metadata": {
    "_cell_guid": "b544ff49-270f-458c-8a8f-9a1babedf31a",
    "_uuid": "efd758e1f85893ec34d518c098e0fcfdd18f54fa"
   },
   "source": [
    "#### 3. Annual Income"
   ]
  },
  {
   "cell_type": "code",
   "execution_count": 28,
   "metadata": {
    "_cell_guid": "d8d830bf-419f-47fd-b753-cc70dba6e046",
    "_uuid": "a25823992ff7e9bc2a8dde9253c168a882621c54"
   },
   "outputs": [],
   "source": [
    "loan[\"annual_inc\"].describe()"
   ]
  },
  {
   "cell_type": "markdown",
   "metadata": {
    "_cell_guid": "5fa1b7bb-9bbe-4619-91ab-358cdd79cddc",
    "_uuid": "f4f16466f8488b9b1a01d80bda9d8be410b50488"
   },
   "source": [
    "###### Max value is 9500000 which is approx 150 times more than mean value, so we will remove the outliers from Annual Income.\n",
    "\n",
    "Remove Outliers (values from 99 to 100%)"
   ]
  },
  {
   "cell_type": "code",
   "execution_count": 29,
   "metadata": {
    "_cell_guid": "6d8e4f29-d679-4125-ab56-24b4aba4f9f3",
    "_uuid": "ee4e682eca5f0eb3fd5c79698f412f1f0a6f2dd2"
   },
   "outputs": [],
   "source": [
    "q = loan[\"annual_inc\"].quantile(0.995)\n",
    "loan = loan[loan[\"annual_inc\"] < q]\n",
    "loan[\"annual_inc\"].describe()"
   ]
  },
  {
   "cell_type": "code",
   "execution_count": 30,
   "metadata": {
    "_cell_guid": "ce6ca3f5-6dba-44ca-9ac8-01a2c8271cc0",
    "_uuid": "2174a3090ef39f07f78a942ea5293afbacdeac65"
   },
   "outputs": [],
   "source": [
    "univariate(df=loan,col='annual_inc',vartype=0)"
   ]
  },
  {
   "cell_type": "markdown",
   "metadata": {
    "_cell_guid": "be95ff1f-276e-42f4-926a-6af293ff0071",
    "_uuid": "db7cce8ed9a8be5730f91d6ff5b27da0f6eccc46"
   },
   "source": [
    "<font color='blue'><b>Insights</b>: Most of the applicants earns beteen 40000 to 90000 USD annually.</font> "
   ]
  },
  {
   "cell_type": "markdown",
   "metadata": {
    "_cell_guid": "060f5e19-d7f0-4783-92b4-1431d9abf08d",
    "_uuid": "36eab8695459fd9ca17167771b26958bc3fef118"
   },
   "source": [
    "### Categorical Variables"
   ]
  },
  {
   "cell_type": "markdown",
   "metadata": {
    "_cell_guid": "17826ad9-1345-40df-be98-94f81dc0a1cf",
    "_uuid": "c3e1120afe7be6fe9bfac8e42623ceef1325f677"
   },
   "source": [
    "#### 4. Loan Status"
   ]
  },
  {
   "cell_type": "code",
   "execution_count": 31,
   "metadata": {
    "_cell_guid": "2806a83e-58cb-42cb-bcac-00c4bab02f4e",
    "_uuid": "5438a1cf079b0eb898ef8675dc46d62d3b83715b"
   },
   "outputs": [],
   "source": [
    "univariate(df=loan,col='loan_status',vartype=1)"
   ]
  },
  {
   "cell_type": "markdown",
   "metadata": {
    "_cell_guid": "ede484c1-fd6b-401f-9b86-5e8c3d8301b2",
    "_uuid": "e0b98f1db5fcaf1e66a019e0efa7df9e06705748"
   },
   "source": [
    "<font color='blue'><b>Insights</b>: 5% of the applicants Charged off.</font> "
   ]
  },
  {
   "cell_type": "markdown",
   "metadata": {
    "_cell_guid": "5cf3fe16-b373-456a-a498-1e10c98e4674",
    "_uuid": "9520354ed0e7fbd462dfd13665ef75e6a2198c96"
   },
   "source": [
    "#### 5. Purpose of loan"
   ]
  },
  {
   "cell_type": "code",
   "execution_count": 32,
   "metadata": {
    "_cell_guid": "78bb6728-00de-4cd3-8bea-637bdb694c25",
    "_uuid": "638f76ff9edf428ab77e7de098aaca6d6c460445"
   },
   "outputs": [],
   "source": [
    "univariate(df=loan,col='purpose',vartype=1,hue='loan_status')"
   ]
  },
  {
   "cell_type": "markdown",
   "metadata": {
    "_cell_guid": "00fa1208-83b2-46bf-8046-da5ff13b4d5b",
    "_uuid": "810eb131a4daa8006795a94da761e9a61124b516"
   },
   "source": [
    "<font color='blue'><b>Insights</b>: Approx 60% of the applicants applied loan for paying their other loans(Debt Consolidation).</font> "
   ]
  },
  {
   "cell_type": "markdown",
   "metadata": {
    "_cell_guid": "79862b9e-ba0e-4365-ab8f-dc321747bb73",
    "_uuid": "8f7e70a90900af94c8fef16f9b6049c84a6b075a"
   },
   "source": [
    "#### 6. Home Ownership wise Loan"
   ]
  },
  {
   "cell_type": "code",
   "execution_count": 33,
   "metadata": {
    "_cell_guid": "f5ed8e0c-09ef-4dc0-a0e3-ff2861fc4cc0",
    "_uuid": "d89dbde37b1562e436cd0710e197b87535b5a306"
   },
   "outputs": [],
   "source": [
    "loan.home_ownership.unique()"
   ]
  },
  {
   "cell_type": "code",
   "execution_count": 34,
   "metadata": {
    "_cell_guid": "1d8d56dc-d4ee-4710-9ead-c13acb512b69",
    "_uuid": "1d0315be402d46d7788e2ba27735a19e32a6c71d"
   },
   "outputs": [],
   "source": [
    "# Remove rows where home_ownership'=='OTHER', 'NONE', 'ANY'\n",
    "rem = ['OTHER', 'NONE', 'ANY']\n",
    "loan.drop(loan[loan['home_ownership'].isin(rem)].index,inplace=True)\n",
    "loan.home_ownership.unique()"
   ]
  },
  {
   "cell_type": "code",
   "execution_count": 35,
   "metadata": {
    "_cell_guid": "990cb3b7-d5a0-4ce9-ba9c-57cec33b6bae",
    "_uuid": "8af7a2987bbb8d9fb7c9d02aed92ac772dc8b550"
   },
   "outputs": [],
   "source": [
    "univariate(df=loan,col='home_ownership',vartype=1,hue='loan_status')"
   ]
  },
  {
   "cell_type": "markdown",
   "metadata": {
    "_cell_guid": "9ecbce90-5994-489e-bf92-06b0589aaf1d",
    "_uuid": "63e3df99cbef2f3409e0c7547f878efbf601ae4a"
   },
   "source": [
    "<font color='blue'><b>Insights</b>: 40% of applicants are living in rented home whereas 52% applicants were mortagaged their home.</font> "
   ]
  },
  {
   "cell_type": "markdown",
   "metadata": {
    "_cell_guid": "4a121fe5-6098-429c-ac5c-1dae70223419",
    "_uuid": "b4630b417b724d794e96827c084eaac8378f2c9e"
   },
   "source": [
    "#### 7. Year wise Loan"
   ]
  },
  {
   "cell_type": "code",
   "execution_count": 36,
   "metadata": {
    "_cell_guid": "93cefd8d-adb8-4422-b82a-f0c6d15b4b62",
    "_uuid": "81e9f6e4f0cb15acb859aedc398f31663ab22d67"
   },
   "outputs": [],
   "source": [
    "year_wise =loan.groupby(by= [loan.issue_year])[['loan_status']].count()\n",
    "year_wise.rename(columns={\"loan_status\": \"count\"},inplace=True)\n",
    "ax =year_wise.plot(figsize=(20,8))\n",
    "year_wise.plot(kind='bar',figsize=(20,8),ax = ax)\n",
    "plt.show()"
   ]
  },
  {
   "cell_type": "markdown",
   "metadata": {
    "_cell_guid": "a8b219a8-5faa-4b74-af8a-7d491ba3f071",
    "_uuid": "6725a4d8e1c65f21ceff822684359e729ef0c5bc"
   },
   "source": [
    "<font color='blue'><b>Insights</b>: loan applicants are increasing year on year, approx 47% of loan applicants received loans in 2011.</font> "
   ]
  },
  {
   "cell_type": "markdown",
   "metadata": {
    "_cell_guid": "80466aec-eb2b-46a7-a145-69296cf4c93a",
    "_uuid": "04503117c3591d9d9f6f2d8a59905ef8a72e297e"
   },
   "source": [
    "#### 8. Loan Term"
   ]
  },
  {
   "cell_type": "code",
   "execution_count": 37,
   "metadata": {
    "_cell_guid": "a47cc5ce-b2fa-4ae8-b67e-414017eafadf",
    "_uuid": "4d55d1d152bde1818b34214d32640341036757ac"
   },
   "outputs": [],
   "source": [
    "univariate(df=loan,col='term',vartype=1,hue='loan_status')"
   ]
  },
  {
   "cell_type": "markdown",
   "metadata": {
    "_cell_guid": "a97af3a1-265a-4ca6-bbde-ff8cb93df30e",
    "_uuid": "d2aca1b181b292bb9214bedb79804b059fc8c703"
   },
   "source": [
    "<font color='blue'><b>Insights</b>: 70% of applicants applied loan for 36 months term period.</font> "
   ]
  },
  {
   "cell_type": "code",
   "execution_count": 38,
   "metadata": {
    "_cell_guid": "be595616-354b-4df5-970d-719c35ab2c5b",
    "_uuid": "5bb97bfb6f814460fb80b299ff87c35f1be206b1"
   },
   "outputs": [],
   "source": [
    "loan.head(3)"
   ]
  },
  {
   "cell_type": "markdown",
   "metadata": {
    "_cell_guid": "0ca313c0-d385-422d-9c39-8a30956eadd4",
    "_uuid": "039f6a354031503867dd4e5ac4292366f424021d"
   },
   "source": [
    "<a id='bivariate'></a>"
   ]
  },
  {
   "cell_type": "markdown",
   "metadata": {
    "_cell_guid": "eb667e91-b54c-4ff4-a53a-4443a7c6b289",
    "_uuid": "d6b8a8a07aac5aeaf6cbff66e8d9d1fc555f162a"
   },
   "source": [
    "## VII. Bivariate/Multivariate Analysis\n",
    "Bivariate/Multivariate Analysis finds out the relationship between two/two or more variables.We can perform Bivariate/Multivariate analysis for any combination of categorical and continuous variables. The combination can be: Categorical & Categorical, Categorical & Continuous and Continuous & Continuous."
   ]
  },
  {
   "cell_type": "markdown",
   "metadata": {
    "_cell_guid": "4ade1f3c-227f-4a1c-800a-213fa45d75c4",
    "_uuid": "cf1c976d5c9e8ba92f965124753f8dfcf52eb04b"
   },
   "source": [
    "#### 1. Purpose of Loan vs Loan Amount for each Loan Status"
   ]
  },
  {
   "cell_type": "code",
   "execution_count": 39,
   "metadata": {
    "_cell_guid": "fdf9bb95-0acc-4b03-9379-075d2c1ce9c8",
    "_uuid": "426f7785bd6910fc65889e19fc50531ae499ef30"
   },
   "outputs": [],
   "source": [
    "plt.figure(figsize=(16,12))\n",
    "sns.boxplot(data =loan, x='purpose', y='loan_amnt', hue ='loan_status')\n",
    "plt.title('Purpose of Loan vs Loan Amount')\n",
    "plt.show()"
   ]
  },
  {
   "cell_type": "markdown",
   "metadata": {
    "_cell_guid": "b5562804-2d90-42d8-aa1d-410877955f1c",
    "_uuid": "d05a816feba2eab7b8f0a99e38a4e85caa13c35a"
   },
   "source": [
    "#### 2. Correlation Matrix : All Continuos(Numeric) Variables"
   ]
  },
  {
   "cell_type": "code",
   "execution_count": 40,
   "metadata": {
    "_cell_guid": "7844253d-abef-4246-ba3f-c7dfed6d2f9d",
    "_uuid": "f7fc6be3b8c4c054dab5923ff6fdc67e82e57aa1"
   },
   "outputs": [],
   "source": [
    "loan_correlation = loan.corr()\n",
    "loan_correlation"
   ]
  },
  {
   "cell_type": "markdown",
   "metadata": {
    "_cell_guid": "aabb8ee3-9879-4277-b1a2-a910ed9289a0",
    "_uuid": "3df11254658b6d8c54c3dc0e37d510b5b1dde598"
   },
   "source": [
    "#### 3. HeatMap: All continuos variables"
   ]
  },
  {
   "cell_type": "code",
   "execution_count": 41,
   "metadata": {
    "_cell_guid": "f831c564-af8a-42e1-9d1d-d6fd74a7bea5",
    "_uuid": "d0b303b28b0e99100315990801103bdb2883f7ab"
   },
   "outputs": [],
   "source": [
    "f, ax = plt.subplots(figsize=(14, 9))\n",
    "sns.heatmap(loan_correlation, \n",
    "            xticklabels=loan_correlation.columns.values,\n",
    "            yticklabels=loan_correlation.columns.values,annot= True)\n",
    "plt.show()"
   ]
  },
  {
   "cell_type": "markdown",
   "metadata": {
    "_cell_guid": "30912b2e-1d78-4148-807e-3428660bb795",
    "_uuid": "fa46c12505baee3e1f3f36be5b97af74db086b51"
   },
   "source": [
    "<font color='blue'><b>Insights</b>: It is clear from the Heatmap that how <b>'loan_amnt','funded_amnt' & 'funded_amnt_inv'</b> are closely <b>interrelated</b>.So we can take any one column out of them for our analysis.</font> "
   ]
  },
  {
   "cell_type": "markdown",
   "metadata": {
    "_cell_guid": "b0983965-9e74-4bc6-8532-d9a4aa6f8582",
    "_uuid": "1ac9cee784cf4476a93db2cd67403f4a226dd69f"
   },
   "source": [
    "#### 4. Employment Length vs Loan Amount for different pupose of Loan"
   ]
  },
  {
   "cell_type": "code",
   "execution_count": 42,
   "metadata": {
    "_cell_guid": "daeb9e27-f273-4687-b7bd-22468b6713eb",
    "_uuid": "7b3461c7c6b0f1333c403e91c51a43ebe2916692",
    "collapsed": true
   },
   "outputs": [],
   "source": [
    "loanstatus=loan.pivot_table(index=['loan_status','purpose','emp_length'],values='loan_amnt',aggfunc=('count')).reset_index()\n",
    "loanstatus=loan.loc[loan['loan_status']=='Charged Off']"
   ]
  },
  {
   "cell_type": "code",
   "execution_count": 43,
   "metadata": {
    "_cell_guid": "87355a74-e345-4827-bae5-a4a1c12a004b",
    "_uuid": "e065c5d21a152f996ed34d3400b9f33367c9aa03"
   },
   "outputs": [],
   "source": [
    "ax = plt.figure(figsize=(30, 18))\n",
    "ax = sns.boxplot(x='emp_length',y='loan_amnt',hue='purpose',data=loanstatus)\n",
    "ax.set_title('Employment Length vs Loan Amount for different pupose of Loan',fontsize=22,weight=\"bold\")\n",
    "ax.set_xlabel('Employment Length',fontsize=16)\n",
    "ax.set_ylabel('Loan Amount',color = 'b',fontsize=16)\n",
    "plt.show()"
   ]
  },
  {
   "cell_type": "markdown",
   "metadata": {
    "_cell_guid": "d4c68927-ada5-4399-9bc6-ba5dece62f8a",
    "_uuid": "be636273d0fafe74e9a95ebe0036778bc35ff134"
   },
   "source": [
    "<a id='bivariate_prob'></a>"
   ]
  },
  {
   "cell_type": "markdown",
   "metadata": {
    "_cell_guid": "33a746dd-e910-46e9-a49c-7bd64f787d3e",
    "_uuid": "2ddaf13bd83ca2d02389621de4084eec629a547b"
   },
   "source": [
    "## VIII. Bivariate/Multivariate Analysis with Probability of Charge off"
   ]
  },
  {
   "cell_type": "markdown",
   "metadata": {
    "_cell_guid": "9bbc158b-a4f0-42d4-875f-478ea6aceef4",
    "_uuid": "f50af5fe47ff62c9b2cb2fd70e4fad0c444f3bbe"
   },
   "source": [
    "### Categorical Variables vs Probability of Charged Off\n",
    "\n",
    "The main motive of this use case to find what parameters are impacting the most on Loan Status that is if a applicant will successfully complete the loan term or will charge off.\n",
    "\n",
    "So we will be using a new term now <b>Probability of Charged Off</b> that will be equal to :\n",
    "\n",
    "\\begin{equation*}\n",
    "{Probability\\:of\\:Charged\\:Off =\\:}\\frac{Number\\:of\\:Applicants\\:who\\:charged\\:off}{Total\\:No.\\:of\\:Applicants}\n",
    "\\end{equation*}\n",
    "\n",
    "\n",
    "We will calculate this probability w.r.t each column in bivariate analysis & will see how the Probability of Charged Off changes with these columns.\n",
    "\n",
    "We will create a user defined function for this."
   ]
  },
  {
   "cell_type": "markdown",
   "metadata": {
    "_cell_guid": "f0181398-242e-408d-ab6d-fb28e136d66d",
    "_uuid": "4e409c6a412cb2b21054c0c21d721835d23283c6"
   },
   "source": [
    "__<font color='green'><u><b>UDF: </b>crosstab</u></font>__\n",
    "##### 'crosstab' function will be used to get the summarized table for each column(passed as a variable) along with probability of charge off w.r.t that column."
   ]
  },
  {
   "cell_type": "code",
   "execution_count": 44,
   "metadata": {
    "_cell_guid": "6a0546f9-eefc-435b-acb2-494d0c7f884d",
    "_uuid": "a8a382c2407045dcde703247b937bf2574682f84",
    "collapsed": true
   },
   "outputs": [],
   "source": [
    "def crosstab(df,col):\n",
    "    '''\n",
    "    df : Dataframe\n",
    "    col: Column Name\n",
    "    '''\n",
    "    crosstab = pd.crosstab(df[col], df['loan_status'],margins=True)\n",
    "    crosstab['Probability_Charged Off'] = round((crosstab['Charged Off']/crosstab['All']),3)\n",
    "    crosstab = crosstab[0:-1]\n",
    "    return crosstab"
   ]
  },
  {
   "cell_type": "markdown",
   "metadata": {
    "_cell_guid": "beaf6ac2-1c64-41d3-932f-453316a12c48",
    "_uuid": "cb39f15e03a1a2c19510acdcc9273bd2ce02dddb"
   },
   "source": [
    "__<font color='green'><u><b>UDF: </b>bivariate_prob</u></font>__\n",
    "##### 'bivariate_prob' function will be used to plot count of values for each column(passed as a variable) stacked across 'loan_status' along with probability of charged off as a line chart."
   ]
  },
  {
   "cell_type": "code",
   "execution_count": 45,
   "metadata": {
    "_cell_guid": "85df4aea-1951-47f1-b89f-eb5bf8bcd554",
    "_uuid": "8167138bf1bc54f6e3cc1582a3cb993bd75374d7",
    "collapsed": true
   },
   "outputs": [],
   "source": [
    "# Probability of charge off\n",
    "def bivariate_prob(df,col,stacked= True):\n",
    "    '''\n",
    "    df      : Dataframe\n",
    "    col     : Column Name\n",
    "    stacked : True(default) for Stacked Bar\n",
    "    '''\n",
    "    # get dataframe from crosstab function\n",
    "    plotCrosstab = crosstab(df,col)\n",
    "    \n",
    "    linePlot = plotCrosstab[['Probability_Charged Off']]      \n",
    "    barPlot =  plotCrosstab.iloc[:,0:2]\n",
    "    ax = linePlot.plot(figsize=(20,8), marker='o',color = 'b')\n",
    "    ax2 = barPlot.plot(kind='bar',ax = ax,rot=1,secondary_y=True,stacked=stacked)\n",
    "    ax.set_title(df[col].name.title()+' vs Probability Charge Off',fontsize=20,weight=\"bold\")\n",
    "    ax.set_xlabel(df[col].name.title(),fontsize=14)\n",
    "    ax.set_ylabel('Probability of Charged off',color = 'b',fontsize=14)\n",
    "    ax2.set_ylabel('Number of Applicants',color = 'g',fontsize=14)\n",
    "    plt.show()"
   ]
  },
  {
   "cell_type": "markdown",
   "metadata": {
    "_cell_guid": "3e9bf279-8e82-49ef-94ab-783e8724647e",
    "_uuid": "21b0a5fc2496c62d6d770f0a47536d68721eed30"
   },
   "source": [
    "#### 1. Location vs Probability Charge Off"
   ]
  },
  {
   "cell_type": "code",
   "execution_count": 46,
   "metadata": {
    "_cell_guid": "c11b1474-3abc-4c30-929b-f423669cfe60",
    "_uuid": "1b036a4c333b121658947567028043cdebc36f16",
    "collapsed": true
   },
   "outputs": [],
   "source": [
    "filter_states = loan.addr_state.value_counts()\n",
    "filter_states = filter_states[(filter_states < 10)]\n",
    "\n",
    "loan_filter_states = loan.drop(labels = loan[loan.addr_state.isin(filter_states.index)].index)"
   ]
  },
  {
   "cell_type": "code",
   "execution_count": 47,
   "metadata": {
    "_cell_guid": "be97c594-fa37-40c2-8f31-c0cda19ac5e7",
    "_uuid": "b94492e8b95371fa7fd96857425bf9b156b63924"
   },
   "outputs": [],
   "source": [
    "states = crosstab(loan_filter_states,'addr_state')\n",
    "display(states.tail(20))\n",
    "\n",
    "bivariate_prob(df =loan_filter_states,col ='addr_state')"
   ]
  },
  {
   "cell_type": "markdown",
   "metadata": {
    "_cell_guid": "6f75f97b-9fe2-42ad-a60c-51cbfcbd04a3",
    "_uuid": "600d9fe8153bb20befa9cdfc6e6bcb8a3d0199ac"
   },
   "source": [
    "<font color='blue'><b>Insights</b>: There are multiple States/Provinces with high probability of charge,highest being 'NV' at 7%</font>   "
   ]
  },
  {
   "cell_type": "markdown",
   "metadata": {
    "_cell_guid": "e23281c5-c394-407e-8c6c-ae0be6e44c5c",
    "_uuid": "cdb9919b68537676c29fc66fb2fb4761392d6b89"
   },
   "source": [
    "#### 2. Purpose of Loan vs Probability Charge Off"
   ]
  },
  {
   "cell_type": "code",
   "execution_count": 48,
   "metadata": {
    "_cell_guid": "c3dfc535-2e93-4b63-b5d1-20635b0ae0fd",
    "_uuid": "273448900c6624ec3aa97c9c11df907b8a87820a"
   },
   "outputs": [],
   "source": [
    "purpose = crosstab(loan,'purpose')\n",
    "display(purpose)\n",
    "\n",
    "bivariate_prob(df =loan,col ='purpose',stacked=False)"
   ]
  },
  {
   "cell_type": "markdown",
   "metadata": {
    "_cell_guid": "055bc2c3-3e7a-451f-875e-7d54225fecd9",
    "_uuid": "87d7001ea367567961390c3f2e2fa59e95ce7f6e"
   },
   "source": [
    "<font color='blue'><b>Insights</b>: Applicants who has taken the Loan for 'small business' has the highest probabilty of charge off of 14%. So bank should take extra caution like take some asset or guarentee while approving the loan for purpose of 'small business'</font>   "
   ]
  },
  {
   "cell_type": "markdown",
   "metadata": {
    "_cell_guid": "ea9f1323-b32d-410c-896b-e9ef93623abd",
    "_uuid": "cd3cfd5500243ebf21be6ca7d025aca3107726ae"
   },
   "source": [
    "#### 3. Grade/Subgrade vs Probability Charge Off"
   ]
  },
  {
   "cell_type": "code",
   "execution_count": 49,
   "metadata": {
    "_cell_guid": "d4c10778-37e8-4002-86d0-88a8a5717ea7",
    "_uuid": "1afcccd185e81f83189b6bd8619461455bac20b8"
   },
   "outputs": [],
   "source": [
    "grade = crosstab(loan,'grade')\n",
    "display(grade)\n",
    "\n",
    "bivariate_prob(df =loan,col ='grade',stacked=False)\n",
    "bivariate_prob(df =loan,col ='sub_grade')"
   ]
  },
  {
   "cell_type": "markdown",
   "metadata": {
    "_cell_guid": "495ad7d5-8b8b-40db-bbd3-38371a225b44",
    "_uuid": "a54c6653785bfabad662abd1b67ed998fb1a56de"
   },
   "source": [
    "<font color='blue'><b>Insights</b>: As we move from Grade A to G, probability that person will charged off is increasing.</font>      "
   ]
  },
  {
   "cell_type": "markdown",
   "metadata": {
    "_cell_guid": "4ae9ee40-31dd-4d73-b7f0-af959ce5ccd2",
    "_uuid": "bf16cddf861d310ff6385bd6960542ded0203b67"
   },
   "source": [
    "#### 4. Annual Income Range vs Probability Charge Off"
   ]
  },
  {
   "cell_type": "code",
   "execution_count": 50,
   "metadata": {
    "_cell_guid": "12970172-87a8-43a4-8f45-8be74bb2922f",
    "_uuid": "f3b334af7ba3f19a7b82305780fb707e4a205bed"
   },
   "outputs": [],
   "source": [
    "annual_inc_range = crosstab(loan,'annual_inc_range')\n",
    "display(annual_inc_range)\n",
    "\n",
    "bivariate_prob(df =loan,col ='annual_inc_range')"
   ]
  },
  {
   "cell_type": "markdown",
   "metadata": {
    "_cell_guid": "b2db43d2-46bb-48dc-b90f-267a910fdc2e",
    "_uuid": "ee36f046c3577513deb8778657a348f870212046"
   },
   "source": [
    "<font color='blue'><b>Insights</b>: As the annual income is decreasing the probability that person will default is increasing with highest of 7% at (0 to 25000) salary bracket.</font>      "
   ]
  },
  {
   "cell_type": "markdown",
   "metadata": {
    "_cell_guid": "00c85ea8-bfd8-4f37-a06a-7e28bb0737a0",
    "_uuid": "aed25ec1988b977ee9e06e0d981305d7d7d01eea"
   },
   "source": [
    "#### 5. Interest rate Range vs Probability Charge Off"
   ]
  },
  {
   "cell_type": "code",
   "execution_count": 51,
   "metadata": {
    "_cell_guid": "55253476-7792-4943-9967-ded2ab650218",
    "_uuid": "442f0841646a9c6437ff85f7e731eb14d1f639a2"
   },
   "outputs": [],
   "source": [
    "int_rate_range = crosstab(loan,'int_rate_range')\n",
    "display(int_rate_range)\n",
    "\n",
    "bivariate_prob(df =loan,col ='int_rate_range')"
   ]
  },
  {
   "cell_type": "markdown",
   "metadata": {
    "_cell_guid": "7901d450-d486-41c6-95fe-ce1ba16b4a1b",
    "_uuid": "83456c0eaaba7b36f3f54105e7e091852be7d28b"
   },
   "source": [
    "<font color='blue'><b>Insights</b>: As the interest rate is increasing the probability that person will default is increasing with highest of 9% at 15% & above bracket.</font>      "
   ]
  },
  {
   "cell_type": "markdown",
   "metadata": {
    "_cell_guid": "3cf320c4-4612-47e7-8e4e-9ef477ebcf45",
    "_uuid": "e8c2e864276dc64ce17d7b370783942ea85d108a"
   },
   "source": [
    "#### 6. Employment Length vs Probability Charge Off"
   ]
  },
  {
   "cell_type": "code",
   "execution_count": 52,
   "metadata": {
    "_cell_guid": "779f8dee-bda2-4eb7-a887-c086bae8afba",
    "_uuid": "ac1866659e1d6e23cd59ca54380f61fdbbcef182"
   },
   "outputs": [],
   "source": [
    "emp_length = crosstab(loan,'emp_length')\n",
    "display(emp_length)\n",
    "\n",
    "bivariate_prob(df =loan,col ='emp_length')"
   ]
  },
  {
   "cell_type": "markdown",
   "metadata": {
    "_cell_guid": "9d320684-c79d-4759-abea-d84a30dc0b4c",
    "_uuid": "0524b84073f1d3bd1b2f274db1025a294bfae309"
   },
   "source": [
    "<font color='blue'><b>Insights</b>: Applicants who are self employed & less than 1 year of experience are more probable of charged off.. </font> "
   ]
  },
  {
   "cell_type": "markdown",
   "metadata": {
    "_cell_guid": "d8a3d56e-9bc1-455f-a65e-078416a66e31",
    "_uuid": "cc3580eb674dca4348ee3129004365496ebe3e23"
   },
   "source": [
    "<a id='Conclusion'></a>"
   ]
  },
  {
   "cell_type": "markdown",
   "metadata": {
    "_cell_guid": "0869c061-bc13-4682-bddb-e84da8155e5d",
    "_uuid": "73fcdf5096bea0cd3df12ccb28f844e36f221be0"
   },
   "source": [
    "***\n",
    "## <font color='blue'><b>IX. Conclusion</b></font> "
   ]
  },
  {
   "cell_type": "markdown",
   "metadata": {
    "_cell_guid": "80981a96-4898-4cab-999c-35e39f3471bc",
    "_uuid": "578b93d2aa1ff2941b797666098c60a71ec18119"
   },
   "source": [
    "### Target Variable\n",
    "* <font color='blue'><b>Loan Status</b></font>\n",
    "\n",
    "### Top-5 Major variables to consider for loan prediction: \n",
    "1. <font color='blue'><b>Purpose of Loan</b></font>\n",
    "2. <font color='blue'><b>Employment Length</b></font>\n",
    "3. <font color='blue'><b>Grade</b></font>\n",
    "4. <font color='blue'><b>Interest Rate</b></font>\n",
    "5. <font color='blue'><b>Term</b></font>"
   ]
  }
 ],
 "metadata": {
  "kernelspec": {
   "display_name": "Python 3",
   "language": "python",
   "name": "python3"
  },
  "language_info": {
   "codemirror_mode": {
    "name": "ipython",
    "version": 3
   },
   "file_extension": ".py",
   "mimetype": "text/x-python",
   "name": "python",
   "nbconvert_exporter": "python",
   "pygments_lexer": "ipython3",
   "version": "3.7.3"
  }
 },
 "nbformat": 4,
 "nbformat_minor": 1
}
